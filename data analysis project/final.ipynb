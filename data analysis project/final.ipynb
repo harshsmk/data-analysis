{
 "cells": [
  {
   "cell_type": "code",
   "execution_count": 2,
   "id": "b10ef7b0",
   "metadata": {},
   "outputs": [],
   "source": [
    "import pandas as pd\n",
    "import numpy as np\n",
    "import matplotlib.pyplot as plt\n",
    "%matplotlib inline"
   ]
  },
  {
   "cell_type": "markdown",
   "id": "bf77f882",
   "metadata": {},
   "source": [
    "# Amazon prime analysis"
   ]
  },
  {
   "cell_type": "code",
   "execution_count": 12,
   "id": "ad4eec9e",
   "metadata": {},
   "outputs": [],
   "source": [
    "adata=pd.read_csv('amazon_prime_titles.csv')\n",
    "ndata=pd.read_csv('netflix_titles.csv')"
   ]
  },
  {
   "cell_type": "code",
   "execution_count": 53,
   "id": "99349ed7",
   "metadata": {
    "scrolled": true
   },
   "outputs": [
    {
     "data": {
      "text/html": [
       "<div>\n",
       "<style scoped>\n",
       "    .dataframe tbody tr th:only-of-type {\n",
       "        vertical-align: middle;\n",
       "    }\n",
       "\n",
       "    .dataframe tbody tr th {\n",
       "        vertical-align: top;\n",
       "    }\n",
       "\n",
       "    .dataframe thead th {\n",
       "        text-align: right;\n",
       "    }\n",
       "</style>\n",
       "<table border=\"1\" class=\"dataframe\">\n",
       "  <thead>\n",
       "    <tr style=\"text-align: right;\">\n",
       "      <th></th>\n",
       "      <th>show_id</th>\n",
       "      <th>type</th>\n",
       "      <th>title</th>\n",
       "      <th>director</th>\n",
       "      <th>cast</th>\n",
       "      <th>country</th>\n",
       "      <th>date_added</th>\n",
       "      <th>release_year</th>\n",
       "      <th>rating</th>\n",
       "      <th>duration</th>\n",
       "      <th>listed_in</th>\n",
       "      <th>description</th>\n",
       "    </tr>\n",
       "  </thead>\n",
       "  <tbody>\n",
       "    <tr>\n",
       "      <th>0</th>\n",
       "      <td>s1</td>\n",
       "      <td>Movie</td>\n",
       "      <td>The Grand Seduction</td>\n",
       "      <td>Don McKellar</td>\n",
       "      <td>Brendan Gleeson, Taylor Kitsch, Gordon Pinsent</td>\n",
       "      <td>Canada</td>\n",
       "      <td>March 30, 2021</td>\n",
       "      <td>2014</td>\n",
       "      <td>NaN</td>\n",
       "      <td>113 min</td>\n",
       "      <td>Comedy, Drama</td>\n",
       "      <td>A small fishing village must procure a local d...</td>\n",
       "    </tr>\n",
       "    <tr>\n",
       "      <th>1</th>\n",
       "      <td>s2</td>\n",
       "      <td>Movie</td>\n",
       "      <td>Take Care Good Night</td>\n",
       "      <td>Girish Joshi</td>\n",
       "      <td>Mahesh Manjrekar, Abhay Mahajan, Sachin Khedekar</td>\n",
       "      <td>India</td>\n",
       "      <td>March 30, 2021</td>\n",
       "      <td>2018</td>\n",
       "      <td>13+</td>\n",
       "      <td>110 min</td>\n",
       "      <td>Drama, International</td>\n",
       "      <td>A Metro Family decides to fight a Cyber Crimin...</td>\n",
       "    </tr>\n",
       "    <tr>\n",
       "      <th>2</th>\n",
       "      <td>s3</td>\n",
       "      <td>Movie</td>\n",
       "      <td>Secrets of Deception</td>\n",
       "      <td>Josh Webber</td>\n",
       "      <td>Tom Sizemore, Lorenzo Lamas, Robert LaSardo, R...</td>\n",
       "      <td>United States</td>\n",
       "      <td>March 30, 2021</td>\n",
       "      <td>2017</td>\n",
       "      <td>NaN</td>\n",
       "      <td>74 min</td>\n",
       "      <td>Action, Drama, Suspense</td>\n",
       "      <td>After a man discovers his wife is cheating on ...</td>\n",
       "    </tr>\n",
       "    <tr>\n",
       "      <th>3</th>\n",
       "      <td>s4</td>\n",
       "      <td>Movie</td>\n",
       "      <td>Pink: Staying True</td>\n",
       "      <td>Sonia Anderson</td>\n",
       "      <td>Interviews with: Pink, Adele, Beyoncé, Britney...</td>\n",
       "      <td>United States</td>\n",
       "      <td>March 30, 2021</td>\n",
       "      <td>2014</td>\n",
       "      <td>NaN</td>\n",
       "      <td>69 min</td>\n",
       "      <td>Documentary</td>\n",
       "      <td>Pink breaks the mold once again, bringing her ...</td>\n",
       "    </tr>\n",
       "    <tr>\n",
       "      <th>4</th>\n",
       "      <td>s5</td>\n",
       "      <td>Movie</td>\n",
       "      <td>Monster Maker</td>\n",
       "      <td>Giles Foster</td>\n",
       "      <td>Harry Dean Stanton, Kieran O'Brien, George Cos...</td>\n",
       "      <td>United Kingdom</td>\n",
       "      <td>March 30, 2021</td>\n",
       "      <td>1989</td>\n",
       "      <td>NaN</td>\n",
       "      <td>45 min</td>\n",
       "      <td>Drama, Fantasy</td>\n",
       "      <td>Teenage Matt Banting wants to work with a famo...</td>\n",
       "    </tr>\n",
       "  </tbody>\n",
       "</table>\n",
       "</div>"
      ],
      "text/plain": [
       "  show_id   type                 title        director  \\\n",
       "0      s1  Movie   The Grand Seduction    Don McKellar   \n",
       "1      s2  Movie  Take Care Good Night    Girish Joshi   \n",
       "2      s3  Movie  Secrets of Deception     Josh Webber   \n",
       "3      s4  Movie    Pink: Staying True  Sonia Anderson   \n",
       "4      s5  Movie         Monster Maker    Giles Foster   \n",
       "\n",
       "                                                cast         country  \\\n",
       "0     Brendan Gleeson, Taylor Kitsch, Gordon Pinsent          Canada   \n",
       "1   Mahesh Manjrekar, Abhay Mahajan, Sachin Khedekar           India   \n",
       "2  Tom Sizemore, Lorenzo Lamas, Robert LaSardo, R...   United States   \n",
       "3  Interviews with: Pink, Adele, Beyoncé, Britney...   United States   \n",
       "4  Harry Dean Stanton, Kieran O'Brien, George Cos...  United Kingdom   \n",
       "\n",
       "       date_added  release_year rating duration                listed_in  \\\n",
       "0  March 30, 2021          2014    NaN  113 min            Comedy, Drama   \n",
       "1  March 30, 2021          2018    13+  110 min     Drama, International   \n",
       "2  March 30, 2021          2017    NaN   74 min  Action, Drama, Suspense   \n",
       "3  March 30, 2021          2014    NaN   69 min              Documentary   \n",
       "4  March 30, 2021          1989    NaN   45 min           Drama, Fantasy   \n",
       "\n",
       "                                         description  \n",
       "0  A small fishing village must procure a local d...  \n",
       "1  A Metro Family decides to fight a Cyber Crimin...  \n",
       "2  After a man discovers his wife is cheating on ...  \n",
       "3  Pink breaks the mold once again, bringing her ...  \n",
       "4  Teenage Matt Banting wants to work with a famo...  "
      ]
     },
     "execution_count": 53,
     "metadata": {},
     "output_type": "execute_result"
    }
   ],
   "source": [
    "adata.head()"
   ]
  },
  {
   "cell_type": "code",
   "execution_count": 6,
   "id": "f57842f4",
   "metadata": {},
   "outputs": [
    {
     "data": {
      "text/plain": [
       "Index(['show_id', 'type', 'title', 'director', 'cast', 'country', 'date_added',\n",
       "       'release_year', 'rating', 'duration', 'listed_in', 'description'],\n",
       "      dtype='object')"
      ]
     },
     "execution_count": 6,
     "metadata": {},
     "output_type": "execute_result"
    }
   ],
   "source": [
    "adata.columns"
   ]
  },
  {
   "cell_type": "code",
   "execution_count": 7,
   "id": "f292c936",
   "metadata": {},
   "outputs": [
    {
     "data": {
      "text/plain": [
       "Index(['show_id', 'type', 'title', 'director', 'cast', 'country', 'date_added',\n",
       "       'release_year', 'rating', 'duration', 'listed_in', 'description'],\n",
       "      dtype='object')"
      ]
     },
     "execution_count": 7,
     "metadata": {},
     "output_type": "execute_result"
    }
   ],
   "source": [
    "zdata.columns"
   ]
  },
  {
   "cell_type": "code",
   "execution_count": 60,
   "id": "d1f1ce8b",
   "metadata": {},
   "outputs": [],
   "source": [
    "atypeM=[f for f in adata['type'] if f=='Movie']\n",
    "atypeT=[f for f in adata['type'] if f=='TV Show']"
   ]
  },
  {
   "cell_type": "code",
   "execution_count": 61,
   "id": "de1dca1c",
   "metadata": {},
   "outputs": [],
   "source": [
    "A_movies=len(atypeM)\n",
    "A_shows=len(atypeT)"
   ]
  },
  {
   "cell_type": "code",
   "execution_count": 62,
   "id": "393bea64",
   "metadata": {},
   "outputs": [
    {
     "data": {
      "text/plain": [
       "7814"
      ]
     },
     "execution_count": 62,
     "metadata": {},
     "output_type": "execute_result"
    }
   ],
   "source": [
    "A_movies"
   ]
  },
  {
   "cell_type": "code",
   "execution_count": 63,
   "id": "896e6c25",
   "metadata": {},
   "outputs": [
    {
     "data": {
      "text/plain": [
       "1854"
      ]
     },
     "execution_count": 63,
     "metadata": {},
     "output_type": "execute_result"
    }
   ],
   "source": [
    "A_shows"
   ]
  },
  {
   "cell_type": "code",
   "execution_count": 135,
   "id": "70d37c4f",
   "metadata": {},
   "outputs": [],
   "source": [
    "Ams=['movies','shows']\n",
    "Amsv=[A_movies,A_shows]"
   ]
  },
  {
   "cell_type": "code",
   "execution_count": 146,
   "id": "158cbc66",
   "metadata": {},
   "outputs": [
    {
     "data": {
      "text/plain": [
       "([<matplotlib.patches.Wedge at 0x237db8e3f90>,\n",
       "  <matplotlib.patches.Wedge at 0x237db950950>],\n",
       " [Text(-0.9063430020937895, 0.6233316633667965, 'movies'),\n",
       "  Text(0.9063429437332633, -0.62333174822475, 'shows')],\n",
       " [Text(-0.494368910232976, 0.3399990891091617, '80.82%'),\n",
       "  Text(0.4943688783999617, -0.3399991353953181, '19.18%')])"
      ]
     },
     "execution_count": 146,
     "metadata": {},
     "output_type": "execute_result"
    },
    {
     "data": {
      "image/png": "[encoded data removed]",
      "text/plain": [
       "<Figure size 640x480 with 1 Axes>"
      ]
     },
     "metadata": {},
     "output_type": "display_data"
    }
   ],
   "source": [
    "plt.pie(Amsv,labels=Ams,autopct='%1.2f%%')"
   ]
  },
  {
   "cell_type": "raw",
   "id": "fab16fe9",
   "metadata": {},
   "source": [
    "1)Amazon prime makes more movies than shows"
   ]
  },
  {
   "cell_type": "code",
   "execution_count": 59,
   "id": "128199c7",
   "metadata": {},
   "outputs": [],
   "source": [
    "Agenre_index=adata.listed_in.value_counts().index\n",
    "Agenre_value=adata.listed_in.value_counts().values"
   ]
  },
  {
   "cell_type": "code",
   "execution_count": 81,
   "id": "7356d30b",
   "metadata": {},
   "outputs": [],
   "source": [
    "Agenre=pd.DataFrame(Agenre_value,Agenre_index).reset_index().rename(columns={0:'count'})"
   ]
  },
  {
   "cell_type": "code",
   "execution_count": 153,
   "id": "b9daef74",
   "metadata": {},
   "outputs": [
    {
     "data": {
      "text/html": [
       "<div>\n",
       "<style scoped>\n",
       "    .dataframe tbody tr th:only-of-type {\n",
       "        vertical-align: middle;\n",
       "    }\n",
       "\n",
       "    .dataframe tbody tr th {\n",
       "        vertical-align: top;\n",
       "    }\n",
       "\n",
       "    .dataframe thead th {\n",
       "        text-align: right;\n",
       "    }\n",
       "</style>\n",
       "<table border=\"1\" class=\"dataframe\">\n",
       "  <thead>\n",
       "    <tr style=\"text-align: right;\">\n",
       "      <th></th>\n",
       "      <th>listed_in</th>\n",
       "      <th>count</th>\n",
       "    </tr>\n",
       "  </thead>\n",
       "  <tbody>\n",
       "    <tr>\n",
       "      <th>0</th>\n",
       "      <td>Drama</td>\n",
       "      <td>986</td>\n",
       "    </tr>\n",
       "    <tr>\n",
       "      <th>1</th>\n",
       "      <td>Comedy</td>\n",
       "      <td>536</td>\n",
       "    </tr>\n",
       "    <tr>\n",
       "      <th>2</th>\n",
       "      <td>Drama, Suspense</td>\n",
       "      <td>399</td>\n",
       "    </tr>\n",
       "    <tr>\n",
       "      <th>3</th>\n",
       "      <td>Comedy, Drama</td>\n",
       "      <td>377</td>\n",
       "    </tr>\n",
       "    <tr>\n",
       "      <th>4</th>\n",
       "      <td>Animation, Kids</td>\n",
       "      <td>356</td>\n",
       "    </tr>\n",
       "    <tr>\n",
       "      <th>5</th>\n",
       "      <td>Documentary</td>\n",
       "      <td>350</td>\n",
       "    </tr>\n",
       "    <tr>\n",
       "      <th>6</th>\n",
       "      <td>Kids</td>\n",
       "      <td>334</td>\n",
       "    </tr>\n",
       "    <tr>\n",
       "      <th>7</th>\n",
       "      <td>Action, Drama</td>\n",
       "      <td>297</td>\n",
       "    </tr>\n",
       "    <tr>\n",
       "      <th>8</th>\n",
       "      <td>Documentary, Special Interest</td>\n",
       "      <td>296</td>\n",
       "    </tr>\n",
       "    <tr>\n",
       "      <th>9</th>\n",
       "      <td>TV Shows</td>\n",
       "      <td>263</td>\n",
       "    </tr>\n",
       "  </tbody>\n",
       "</table>\n",
       "</div>"
      ],
      "text/plain": [
       "                       listed_in  count\n",
       "0                          Drama    986\n",
       "1                         Comedy    536\n",
       "2                Drama, Suspense    399\n",
       "3                  Comedy, Drama    377\n",
       "4                Animation, Kids    356\n",
       "5                    Documentary    350\n",
       "6                           Kids    334\n",
       "7                  Action, Drama    297\n",
       "8  Documentary, Special Interest    296\n",
       "9                       TV Shows    263"
      ]
     },
     "execution_count": 153,
     "metadata": {},
     "output_type": "execute_result"
    }
   ],
   "source": [
    "Agenre.head(10)"
   ]
  },
  {
   "cell_type": "code",
   "execution_count": 155,
   "id": "c390215b",
   "metadata": {
    "scrolled": false
   },
   "outputs": [
    {
     "data": {
      "text/plain": [
       "<BarContainer object of 5 artists>"
      ]
     },
     "execution_count": 155,
     "metadata": {},
     "output_type": "execute_result"
    },
    {
     "data": {
      "image/png": "[encoded data removed]",
      "text/plain": [
       "<Figure size 1000x500 with 1 Axes>"
      ]
     },
     "metadata": {},
     "output_type": "display_data"
    }
   ],
   "source": [
    "fig = plt.figure(figsize = (10, 5))\n",
    "plt.barh(Agenre_index[0:5],Agenre_value[0:5],color='maroon')"
   ]
  },
  {
   "cell_type": "raw",
   "id": "06018e11",
   "metadata": {},
   "source": [
    "2)Amazon prefers to make content based on Drama and Comedy."
   ]
  },
  {
   "cell_type": "code",
   "execution_count": 156,
   "id": "e7686875",
   "metadata": {},
   "outputs": [
    {
     "data": {
      "text/plain": [
       "Index(['show_id', 'type', 'title', 'director', 'cast', 'country', 'date_added',\n",
       "       'release_year', 'rating', 'duration', 'listed_in', 'description'],\n",
       "      dtype='object')"
      ]
     },
     "execution_count": 156,
     "metadata": {},
     "output_type": "execute_result"
    }
   ],
   "source": [
    "adata.columns"
   ]
  },
  {
   "cell_type": "code",
   "execution_count": 181,
   "id": "fc47e20b",
   "metadata": {},
   "outputs": [],
   "source": [
    "list_of_Adir=[f for f in adata.director if f!='NaN']\n"
   ]
  },
  {
   "cell_type": "code",
   "execution_count": 5,
   "id": "4cc5f576",
   "metadata": {},
   "outputs": [],
   "source": [
    "Adir_index=adata.director.value_counts().index\n",
    "Adir_value=adata.director.value_counts().values"
   ]
  },
  {
   "cell_type": "code",
   "execution_count": 6,
   "id": "b4f06cab",
   "metadata": {},
   "outputs": [],
   "source": [
    "A_director=pd.DataFrame(Adir_index,Adir_value).reset_index().rename(columns={0:'counts'})"
   ]
  },
  {
   "cell_type": "code",
   "execution_count": 8,
   "id": "60704186",
   "metadata": {},
   "outputs": [
    {
     "data": {
      "text/html": [
       "<div>\n",
       "<style scoped>\n",
       "    .dataframe tbody tr th:only-of-type {\n",
       "        vertical-align: middle;\n",
       "    }\n",
       "\n",
       "    .dataframe tbody tr th {\n",
       "        vertical-align: top;\n",
       "    }\n",
       "\n",
       "    .dataframe thead th {\n",
       "        text-align: right;\n",
       "    }\n",
       "</style>\n",
       "<table border=\"1\" class=\"dataframe\">\n",
       "  <thead>\n",
       "    <tr style=\"text-align: right;\">\n",
       "      <th></th>\n",
       "      <th>index</th>\n",
       "      <th>director</th>\n",
       "    </tr>\n",
       "  </thead>\n",
       "  <tbody>\n",
       "    <tr>\n",
       "      <th>0</th>\n",
       "      <td>113</td>\n",
       "      <td>Mark Knight</td>\n",
       "    </tr>\n",
       "    <tr>\n",
       "      <th>1</th>\n",
       "      <td>61</td>\n",
       "      <td>Cannis Holder</td>\n",
       "    </tr>\n",
       "    <tr>\n",
       "      <th>2</th>\n",
       "      <td>37</td>\n",
       "      <td>Moonbug Entertainment</td>\n",
       "    </tr>\n",
       "    <tr>\n",
       "      <th>3</th>\n",
       "      <td>34</td>\n",
       "      <td>Jay Chapman</td>\n",
       "    </tr>\n",
       "    <tr>\n",
       "      <th>4</th>\n",
       "      <td>30</td>\n",
       "      <td>Arthur van Merwijk</td>\n",
       "    </tr>\n",
       "    <tr>\n",
       "      <th>...</th>\n",
       "      <td>...</td>\n",
       "      <td>...</td>\n",
       "    </tr>\n",
       "    <tr>\n",
       "      <th>5768</th>\n",
       "      <td>1</td>\n",
       "      <td>Karyn Kusama</td>\n",
       "    </tr>\n",
       "    <tr>\n",
       "      <th>5769</th>\n",
       "      <td>1</td>\n",
       "      <td>K. Subash</td>\n",
       "    </tr>\n",
       "    <tr>\n",
       "      <th>5770</th>\n",
       "      <td>1</td>\n",
       "      <td>Robert Cuffley</td>\n",
       "    </tr>\n",
       "    <tr>\n",
       "      <th>5771</th>\n",
       "      <td>1</td>\n",
       "      <td>J. Sabarish</td>\n",
       "    </tr>\n",
       "    <tr>\n",
       "      <th>5772</th>\n",
       "      <td>1</td>\n",
       "      <td>Steve Barker</td>\n",
       "    </tr>\n",
       "  </tbody>\n",
       "</table>\n",
       "<p>5773 rows × 2 columns</p>\n",
       "</div>"
      ],
      "text/plain": [
       "      index               director\n",
       "0       113            Mark Knight\n",
       "1        61          Cannis Holder\n",
       "2        37  Moonbug Entertainment\n",
       "3        34            Jay Chapman\n",
       "4        30     Arthur van Merwijk\n",
       "...     ...                    ...\n",
       "5768      1           Karyn Kusama\n",
       "5769      1              K. Subash\n",
       "5770      1         Robert Cuffley\n",
       "5771      1            J. Sabarish\n",
       "5772      1           Steve Barker\n",
       "\n",
       "[5773 rows x 2 columns]"
      ]
     },
     "execution_count": 8,
     "metadata": {},
     "output_type": "execute_result"
    }
   ],
   "source": [
    "A_director"
   ]
  },
  {
   "cell_type": "raw",
   "id": "999a3661",
   "metadata": {},
   "source": [
    "3)Mark Knight has directed most no. of shows"
   ]
  },
  {
   "cell_type": "code",
   "execution_count": 204,
   "id": "eef7fac4",
   "metadata": {},
   "outputs": [
    {
     "data": {
      "text/plain": [
       "cast\n",
       "Maggie Binkley    56\n",
       "Name: count, dtype: int64"
      ]
     },
     "execution_count": 204,
     "metadata": {},
     "output_type": "execute_result"
    }
   ],
   "source": [
    "adata.cast.value_counts().head(1)"
   ]
  },
  {
   "cell_type": "raw",
   "id": "443fd524",
   "metadata": {},
   "source": [
    "4)Maggie Binkley is found to be most acted actor in Amazom prime"
   ]
  },
  {
   "cell_type": "code",
   "execution_count": 208,
   "id": "79195bcc",
   "metadata": {},
   "outputs": [],
   "source": [
    "acountry_value=adata.country.value_counts().values\n",
    "acountry_index=adata.country.value_counts().index"
   ]
  },
  {
   "cell_type": "code",
   "execution_count": 221,
   "id": "ecbfbb08",
   "metadata": {},
   "outputs": [],
   "source": [
    "A_contry=pd.DataFrame(acountry_value,acountry_index)"
   ]
  },
  {
   "cell_type": "code",
   "execution_count": 224,
   "id": "962561b3",
   "metadata": {},
   "outputs": [
    {
     "data": {
      "text/html": [
       "<div>\n",
       "<style scoped>\n",
       "    .dataframe tbody tr th:only-of-type {\n",
       "        vertical-align: middle;\n",
       "    }\n",
       "\n",
       "    .dataframe tbody tr th {\n",
       "        vertical-align: top;\n",
       "    }\n",
       "\n",
       "    .dataframe thead th {\n",
       "        text-align: right;\n",
       "    }\n",
       "</style>\n",
       "<table border=\"1\" class=\"dataframe\">\n",
       "  <thead>\n",
       "    <tr style=\"text-align: right;\">\n",
       "      <th></th>\n",
       "      <th>country</th>\n",
       "      <th>counts</th>\n",
       "    </tr>\n",
       "  </thead>\n",
       "  <tbody>\n",
       "    <tr>\n",
       "      <th>0</th>\n",
       "      <td>United States</td>\n",
       "      <td>253</td>\n",
       "    </tr>\n",
       "    <tr>\n",
       "      <th>1</th>\n",
       "      <td>India</td>\n",
       "      <td>229</td>\n",
       "    </tr>\n",
       "    <tr>\n",
       "      <th>2</th>\n",
       "      <td>United Kingdom</td>\n",
       "      <td>28</td>\n",
       "    </tr>\n",
       "    <tr>\n",
       "      <th>3</th>\n",
       "      <td>Canada</td>\n",
       "      <td>16</td>\n",
       "    </tr>\n",
       "    <tr>\n",
       "      <th>4</th>\n",
       "      <td>United Kingdom, United States</td>\n",
       "      <td>12</td>\n",
       "    </tr>\n",
       "    <tr>\n",
       "      <th>...</th>\n",
       "      <td>...</td>\n",
       "      <td>...</td>\n",
       "    </tr>\n",
       "    <tr>\n",
       "      <th>81</th>\n",
       "      <td>United States, Germany, Brazil, Italy</td>\n",
       "      <td>1</td>\n",
       "    </tr>\n",
       "    <tr>\n",
       "      <th>82</th>\n",
       "      <td>South Africa</td>\n",
       "      <td>1</td>\n",
       "    </tr>\n",
       "    <tr>\n",
       "      <th>83</th>\n",
       "      <td>Australia, United States, Germany</td>\n",
       "      <td>1</td>\n",
       "    </tr>\n",
       "    <tr>\n",
       "      <th>84</th>\n",
       "      <td>Germany, Austria, United States</td>\n",
       "      <td>1</td>\n",
       "    </tr>\n",
       "    <tr>\n",
       "      <th>85</th>\n",
       "      <td>Italy, Spain</td>\n",
       "      <td>1</td>\n",
       "    </tr>\n",
       "  </tbody>\n",
       "</table>\n",
       "<p>86 rows × 2 columns</p>\n",
       "</div>"
      ],
      "text/plain": [
       "                                  country  counts\n",
       "0                           United States     253\n",
       "1                                   India     229\n",
       "2                          United Kingdom      28\n",
       "3                                  Canada      16\n",
       "4           United Kingdom, United States      12\n",
       "..                                    ...     ...\n",
       "81  United States, Germany, Brazil, Italy       1\n",
       "82                           South Africa       1\n",
       "83      Australia, United States, Germany       1\n",
       "84        Germany, Austria, United States       1\n",
       "85                           Italy, Spain       1\n",
       "\n",
       "[86 rows x 2 columns]"
      ]
     },
     "execution_count": 224,
     "metadata": {},
     "output_type": "execute_result"
    }
   ],
   "source": [
    "A_country.reset_index().rename(columns={0:'counts'})"
   ]
  },
  {
   "cell_type": "code",
   "execution_count": 225,
   "id": "a828b6f4",
   "metadata": {},
   "outputs": [
    {
     "data": {
      "text/plain": [
       "([<matplotlib.patches.Wedge at 0x237db69b350>,\n",
       "  <matplotlib.patches.Wedge at 0x237db697390>,\n",
       "  <matplotlib.patches.Wedge at 0x237db67f490>,\n",
       "  <matplotlib.patches.Wedge at 0x237db67d690>,\n",
       "  <matplotlib.patches.Wedge at 0x237db67c590>],\n",
       " [Text(0.10262380167106898, 1.0952024266456761, 'United States'),\n",
       "  Text(-0.4489744757123918, -1.0042021311263898, 'India'),\n",
       "  Text(0.9703026364257658, -0.5181822013010563, 'United Kingdom'),\n",
       "  Text(1.0701295347171562, -0.2546031793321579, 'Canada'),\n",
       "  Text(1.097300514018965, -0.07701676397847104, 'United Kingdom, United States')],\n",
       " [Text(0.055976619093310344, 0.5973831418067324, '47.03%'),\n",
       "  Text(-0.2448951685703955, -0.5477466169780307, '42.57%'),\n",
       "  Text(0.5292559835049631, -0.2826448370733034, '5.20%'),\n",
       "  Text(0.5837070189366306, -0.1388744614539043, '2.97%'),\n",
       "  Text(0.5985275531012535, -0.042009143988256926, '2.23%')])"
      ]
     },
     "execution_count": 225,
     "metadata": {},
     "output_type": "execute_result"
    },
    {
     "data": {
      "image/png": "[encoded data removed]",
      "text/plain": [
       "<Figure size 640x480 with 1 Axes>"
      ]
     },
     "metadata": {},
     "output_type": "display_data"
    }
   ],
   "source": [
    "plt.pie(acountry_value[0:5],labels=acountry_index[0:5],autopct='%1.2f%%')"
   ]
  },
  {
   "cell_type": "raw",
   "id": "082e31b3",
   "metadata": {},
   "source": [
    "5)From the above pie chart,we can confirm that India and USA has produced most no.of contents.\n"
   ]
  },
  {
   "cell_type": "code",
   "execution_count": 231,
   "id": "73a4034a",
   "metadata": {},
   "outputs": [
    {
     "name": "stdout",
     "output_type": "stream",
     "text": [
      "<class 'pandas.core.frame.DataFrame'>\n",
      "RangeIndex: 9668 entries, 0 to 9667\n",
      "Data columns (total 12 columns):\n",
      " #   Column        Non-Null Count  Dtype \n",
      "---  ------        --------------  ----- \n",
      " 0   show_id       9668 non-null   object\n",
      " 1   type          9668 non-null   object\n",
      " 2   title         9668 non-null   object\n",
      " 3   director      7585 non-null   object\n",
      " 4   cast          8435 non-null   object\n",
      " 5   country       672 non-null    object\n",
      " 6   date_added    155 non-null    object\n",
      " 7   release_year  9668 non-null   int64 \n",
      " 8   rating        9331 non-null   object\n",
      " 9   duration      9668 non-null   object\n",
      " 10  listed_in     9668 non-null   object\n",
      " 11  description   9668 non-null   object\n",
      "dtypes: int64(1), object(11)\n",
      "memory usage: 906.5+ KB\n"
     ]
    }
   ],
   "source": [
    "adata.info()"
   ]
  },
  {
   "cell_type": "code",
   "execution_count": 242,
   "id": "3337c3c1",
   "metadata": {},
   "outputs": [
    {
     "data": {
      "text/plain": [
       "release_year\n",
       "2021    1442\n",
       "2020     962\n",
       "2019     929\n",
       "2018     623\n",
       "2017     562\n",
       "Name: count, dtype: int64"
      ]
     },
     "execution_count": 242,
     "metadata": {},
     "output_type": "execute_result"
    }
   ],
   "source": [
    "adata.release_year.value_counts().head(5)"
   ]
  },
  {
   "cell_type": "raw",
   "id": "9d6b124f",
   "metadata": {},
   "source": [
    "6)Amazon have released most no. of movies in 2021"
   ]
  },
  {
   "cell_type": "markdown",
   "id": "f1b99c3c",
   "metadata": {},
   "source": [
    "# AMAZON PRIME VS NETFLIX"
   ]
  },
  {
   "cell_type": "code",
   "execution_count": 10,
   "id": "70939a8e",
   "metadata": {},
   "outputs": [
    {
     "data": {
      "text/plain": [
       "Index(['show_id', 'type', 'title', 'director', 'cast', 'country', 'date_added',\n",
       "       'release_year', 'rating', 'duration', 'listed_in', 'description'],\n",
       "      dtype='object')"
      ]
     },
     "execution_count": 10,
     "metadata": {},
     "output_type": "execute_result"
    }
   ],
   "source": [
    "adata.columns"
   ]
  },
  {
   "cell_type": "code",
   "execution_count": 13,
   "id": "2eebf739",
   "metadata": {},
   "outputs": [
    {
     "data": {
      "text/plain": [
       "Index(['show_id', 'type', 'title', 'director', 'cast', 'country', 'date_added',\n",
       "       'release_year', 'rating', 'duration', 'listed_in', 'description'],\n",
       "      dtype='object')"
      ]
     },
     "execution_count": 13,
     "metadata": {},
     "output_type": "execute_result"
    }
   ],
   "source": [
    "ndata.columns"
   ]
  },
  {
   "cell_type": "code",
   "execution_count": 21,
   "id": "7d8edee2",
   "metadata": {},
   "outputs": [],
   "source": [
    "df=pd.read_csv('amazon_prime_titles.csv')"
   ]
  },
  {
   "cell_type": "markdown",
   "id": "e1eff645",
   "metadata": {},
   "source": [
    "Here both amazon prime and netflix datas are appended together"
   ]
  },
  {
   "cell_type": "code",
   "execution_count": 31,
   "id": "2bfc2810",
   "metadata": {},
   "outputs": [],
   "source": [
    "final=df._append(ndata)"
   ]
  },
  {
   "cell_type": "code",
   "execution_count": 32,
   "id": "228515f5",
   "metadata": {},
   "outputs": [
    {
     "data": {
      "text/html": [
       "<div>\n",
       "<style scoped>\n",
       "    .dataframe tbody tr th:only-of-type {\n",
       "        vertical-align: middle;\n",
       "    }\n",
       "\n",
       "    .dataframe tbody tr th {\n",
       "        vertical-align: top;\n",
       "    }\n",
       "\n",
       "    .dataframe thead th {\n",
       "        text-align: right;\n",
       "    }\n",
       "</style>\n",
       "<table border=\"1\" class=\"dataframe\">\n",
       "  <thead>\n",
       "    <tr style=\"text-align: right;\">\n",
       "      <th></th>\n",
       "      <th>show_id</th>\n",
       "      <th>type</th>\n",
       "      <th>title</th>\n",
       "      <th>director</th>\n",
       "      <th>cast</th>\n",
       "      <th>country</th>\n",
       "      <th>date_added</th>\n",
       "      <th>release_year</th>\n",
       "      <th>rating</th>\n",
       "      <th>duration</th>\n",
       "      <th>listed_in</th>\n",
       "      <th>description</th>\n",
       "    </tr>\n",
       "  </thead>\n",
       "  <tbody>\n",
       "    <tr>\n",
       "      <th>0</th>\n",
       "      <td>s1</td>\n",
       "      <td>Movie</td>\n",
       "      <td>The Grand Seduction</td>\n",
       "      <td>Don McKellar</td>\n",
       "      <td>Brendan Gleeson, Taylor Kitsch, Gordon Pinsent</td>\n",
       "      <td>Canada</td>\n",
       "      <td>March 30, 2021</td>\n",
       "      <td>2014</td>\n",
       "      <td>NaN</td>\n",
       "      <td>113 min</td>\n",
       "      <td>Comedy, Drama</td>\n",
       "      <td>A small fishing village must procure a local d...</td>\n",
       "    </tr>\n",
       "    <tr>\n",
       "      <th>1</th>\n",
       "      <td>s2</td>\n",
       "      <td>Movie</td>\n",
       "      <td>Take Care Good Night</td>\n",
       "      <td>Girish Joshi</td>\n",
       "      <td>Mahesh Manjrekar, Abhay Mahajan, Sachin Khedekar</td>\n",
       "      <td>India</td>\n",
       "      <td>March 30, 2021</td>\n",
       "      <td>2018</td>\n",
       "      <td>13+</td>\n",
       "      <td>110 min</td>\n",
       "      <td>Drama, International</td>\n",
       "      <td>A Metro Family decides to fight a Cyber Crimin...</td>\n",
       "    </tr>\n",
       "    <tr>\n",
       "      <th>2</th>\n",
       "      <td>s3</td>\n",
       "      <td>Movie</td>\n",
       "      <td>Secrets of Deception</td>\n",
       "      <td>Josh Webber</td>\n",
       "      <td>Tom Sizemore, Lorenzo Lamas, Robert LaSardo, R...</td>\n",
       "      <td>United States</td>\n",
       "      <td>March 30, 2021</td>\n",
       "      <td>2017</td>\n",
       "      <td>NaN</td>\n",
       "      <td>74 min</td>\n",
       "      <td>Action, Drama, Suspense</td>\n",
       "      <td>After a man discovers his wife is cheating on ...</td>\n",
       "    </tr>\n",
       "    <tr>\n",
       "      <th>3</th>\n",
       "      <td>s4</td>\n",
       "      <td>Movie</td>\n",
       "      <td>Pink: Staying True</td>\n",
       "      <td>Sonia Anderson</td>\n",
       "      <td>Interviews with: Pink, Adele, Beyoncé, Britney...</td>\n",
       "      <td>United States</td>\n",
       "      <td>March 30, 2021</td>\n",
       "      <td>2014</td>\n",
       "      <td>NaN</td>\n",
       "      <td>69 min</td>\n",
       "      <td>Documentary</td>\n",
       "      <td>Pink breaks the mold once again, bringing her ...</td>\n",
       "    </tr>\n",
       "    <tr>\n",
       "      <th>4</th>\n",
       "      <td>s5</td>\n",
       "      <td>Movie</td>\n",
       "      <td>Monster Maker</td>\n",
       "      <td>Giles Foster</td>\n",
       "      <td>Harry Dean Stanton, Kieran O'Brien, George Cos...</td>\n",
       "      <td>United Kingdom</td>\n",
       "      <td>March 30, 2021</td>\n",
       "      <td>1989</td>\n",
       "      <td>NaN</td>\n",
       "      <td>45 min</td>\n",
       "      <td>Drama, Fantasy</td>\n",
       "      <td>Teenage Matt Banting wants to work with a famo...</td>\n",
       "    </tr>\n",
       "    <tr>\n",
       "      <th>...</th>\n",
       "      <td>...</td>\n",
       "      <td>...</td>\n",
       "      <td>...</td>\n",
       "      <td>...</td>\n",
       "      <td>...</td>\n",
       "      <td>...</td>\n",
       "      <td>...</td>\n",
       "      <td>...</td>\n",
       "      <td>...</td>\n",
       "      <td>...</td>\n",
       "      <td>...</td>\n",
       "      <td>...</td>\n",
       "    </tr>\n",
       "    <tr>\n",
       "      <th>8802</th>\n",
       "      <td>s8803</td>\n",
       "      <td>Movie</td>\n",
       "      <td>Zodiac</td>\n",
       "      <td>David Fincher</td>\n",
       "      <td>Mark Ruffalo, Jake Gyllenhaal, Robert Downey J...</td>\n",
       "      <td>United States</td>\n",
       "      <td>November 20, 2019</td>\n",
       "      <td>2007</td>\n",
       "      <td>R</td>\n",
       "      <td>158 min</td>\n",
       "      <td>Cult Movies, Dramas, Thrillers</td>\n",
       "      <td>A political cartoonist, a crime reporter and a...</td>\n",
       "    </tr>\n",
       "    <tr>\n",
       "      <th>8803</th>\n",
       "      <td>s8804</td>\n",
       "      <td>TV Show</td>\n",
       "      <td>Zombie Dumb</td>\n",
       "      <td>NaN</td>\n",
       "      <td>NaN</td>\n",
       "      <td>NaN</td>\n",
       "      <td>July 1, 2019</td>\n",
       "      <td>2018</td>\n",
       "      <td>TV-Y7</td>\n",
       "      <td>2 Seasons</td>\n",
       "      <td>Kids' TV, Korean TV Shows, TV Comedies</td>\n",
       "      <td>While living alone in a spooky town, a young g...</td>\n",
       "    </tr>\n",
       "    <tr>\n",
       "      <th>8804</th>\n",
       "      <td>s8805</td>\n",
       "      <td>Movie</td>\n",
       "      <td>Zombieland</td>\n",
       "      <td>Ruben Fleischer</td>\n",
       "      <td>Jesse Eisenberg, Woody Harrelson, Emma Stone, ...</td>\n",
       "      <td>United States</td>\n",
       "      <td>November 1, 2019</td>\n",
       "      <td>2009</td>\n",
       "      <td>R</td>\n",
       "      <td>88 min</td>\n",
       "      <td>Comedies, Horror Movies</td>\n",
       "      <td>Looking to survive in a world taken over by zo...</td>\n",
       "    </tr>\n",
       "    <tr>\n",
       "      <th>8805</th>\n",
       "      <td>s8806</td>\n",
       "      <td>Movie</td>\n",
       "      <td>Zoom</td>\n",
       "      <td>Peter Hewitt</td>\n",
       "      <td>Tim Allen, Courteney Cox, Chevy Chase, Kate Ma...</td>\n",
       "      <td>United States</td>\n",
       "      <td>January 11, 2020</td>\n",
       "      <td>2006</td>\n",
       "      <td>PG</td>\n",
       "      <td>88 min</td>\n",
       "      <td>Children &amp; Family Movies, Comedies</td>\n",
       "      <td>Dragged from civilian life, a former superhero...</td>\n",
       "    </tr>\n",
       "    <tr>\n",
       "      <th>8806</th>\n",
       "      <td>s8807</td>\n",
       "      <td>Movie</td>\n",
       "      <td>Zubaan</td>\n",
       "      <td>Mozez Singh</td>\n",
       "      <td>Vicky Kaushal, Sarah-Jane Dias, Raaghav Chanan...</td>\n",
       "      <td>India</td>\n",
       "      <td>March 2, 2019</td>\n",
       "      <td>2015</td>\n",
       "      <td>TV-14</td>\n",
       "      <td>111 min</td>\n",
       "      <td>Dramas, International Movies, Music &amp; Musicals</td>\n",
       "      <td>A scrappy but poor boy worms his way into a ty...</td>\n",
       "    </tr>\n",
       "  </tbody>\n",
       "</table>\n",
       "<p>18475 rows × 12 columns</p>\n",
       "</div>"
      ],
      "text/plain": [
       "     show_id     type                 title         director  \\\n",
       "0         s1    Movie   The Grand Seduction     Don McKellar   \n",
       "1         s2    Movie  Take Care Good Night     Girish Joshi   \n",
       "2         s3    Movie  Secrets of Deception      Josh Webber   \n",
       "3         s4    Movie    Pink: Staying True   Sonia Anderson   \n",
       "4         s5    Movie         Monster Maker     Giles Foster   \n",
       "...      ...      ...                   ...              ...   \n",
       "8802   s8803    Movie                Zodiac    David Fincher   \n",
       "8803   s8804  TV Show           Zombie Dumb              NaN   \n",
       "8804   s8805    Movie            Zombieland  Ruben Fleischer   \n",
       "8805   s8806    Movie                  Zoom     Peter Hewitt   \n",
       "8806   s8807    Movie                Zubaan      Mozez Singh   \n",
       "\n",
       "                                                   cast         country  \\\n",
       "0        Brendan Gleeson, Taylor Kitsch, Gordon Pinsent          Canada   \n",
       "1      Mahesh Manjrekar, Abhay Mahajan, Sachin Khedekar           India   \n",
       "2     Tom Sizemore, Lorenzo Lamas, Robert LaSardo, R...   United States   \n",
       "3     Interviews with: Pink, Adele, Beyoncé, Britney...   United States   \n",
       "4     Harry Dean Stanton, Kieran O'Brien, George Cos...  United Kingdom   \n",
       "...                                                 ...             ...   \n",
       "8802  Mark Ruffalo, Jake Gyllenhaal, Robert Downey J...   United States   \n",
       "8803                                                NaN             NaN   \n",
       "8804  Jesse Eisenberg, Woody Harrelson, Emma Stone, ...   United States   \n",
       "8805  Tim Allen, Courteney Cox, Chevy Chase, Kate Ma...   United States   \n",
       "8806  Vicky Kaushal, Sarah-Jane Dias, Raaghav Chanan...           India   \n",
       "\n",
       "             date_added  release_year rating   duration  \\\n",
       "0        March 30, 2021          2014    NaN    113 min   \n",
       "1        March 30, 2021          2018    13+    110 min   \n",
       "2        March 30, 2021          2017    NaN     74 min   \n",
       "3        March 30, 2021          2014    NaN     69 min   \n",
       "4        March 30, 2021          1989    NaN     45 min   \n",
       "...                 ...           ...    ...        ...   \n",
       "8802  November 20, 2019          2007      R    158 min   \n",
       "8803       July 1, 2019          2018  TV-Y7  2 Seasons   \n",
       "8804   November 1, 2019          2009      R     88 min   \n",
       "8805   January 11, 2020          2006     PG     88 min   \n",
       "8806      March 2, 2019          2015  TV-14    111 min   \n",
       "\n",
       "                                           listed_in  \\\n",
       "0                                      Comedy, Drama   \n",
       "1                               Drama, International   \n",
       "2                            Action, Drama, Suspense   \n",
       "3                                        Documentary   \n",
       "4                                     Drama, Fantasy   \n",
       "...                                              ...   \n",
       "8802                  Cult Movies, Dramas, Thrillers   \n",
       "8803          Kids' TV, Korean TV Shows, TV Comedies   \n",
       "8804                         Comedies, Horror Movies   \n",
       "8805              Children & Family Movies, Comedies   \n",
       "8806  Dramas, International Movies, Music & Musicals   \n",
       "\n",
       "                                            description  \n",
       "0     A small fishing village must procure a local d...  \n",
       "1     A Metro Family decides to fight a Cyber Crimin...  \n",
       "2     After a man discovers his wife is cheating on ...  \n",
       "3     Pink breaks the mold once again, bringing her ...  \n",
       "4     Teenage Matt Banting wants to work with a famo...  \n",
       "...                                                 ...  \n",
       "8802  A political cartoonist, a crime reporter and a...  \n",
       "8803  While living alone in a spooky town, a young g...  \n",
       "8804  Looking to survive in a world taken over by zo...  \n",
       "8805  Dragged from civilian life, a former superhero...  \n",
       "8806  A scrappy but poor boy worms his way into a ty...  \n",
       "\n",
       "[18475 rows x 12 columns]"
      ]
     },
     "execution_count": 32,
     "metadata": {},
     "output_type": "execute_result"
    }
   ],
   "source": [
    "final"
   ]
  },
  {
   "cell_type": "code",
   "execution_count": 33,
   "id": "752ec553",
   "metadata": {},
   "outputs": [],
   "source": [
    "final_Movies=[f for f in final['type'] if f=='Movie']\n",
    "final_shows=[f for f in final['type'] if f=='TV Show']"
   ]
  },
  {
   "cell_type": "code",
   "execution_count": 34,
   "id": "92cc6b70",
   "metadata": {},
   "outputs": [
    {
     "data": {
      "text/plain": [
       "13945"
      ]
     },
     "execution_count": 34,
     "metadata": {},
     "output_type": "execute_result"
    }
   ],
   "source": [
    "len(final_Movies)"
   ]
  },
  {
   "cell_type": "code",
   "execution_count": 35,
   "id": "0e651def",
   "metadata": {},
   "outputs": [],
   "source": [
    "Mcount=len(df_Movies)"
   ]
  },
  {
   "cell_type": "code",
   "execution_count": 36,
   "id": "c97aa097",
   "metadata": {},
   "outputs": [
    {
     "data": {
      "text/plain": [
       "4530"
      ]
     },
     "execution_count": 36,
     "metadata": {},
     "output_type": "execute_result"
    }
   ],
   "source": [
    "len(final_shows)"
   ]
  },
  {
   "cell_type": "code",
   "execution_count": 37,
   "id": "b3b0c80c",
   "metadata": {},
   "outputs": [],
   "source": [
    "Scount=len(final_shows)"
   ]
  },
  {
   "cell_type": "code",
   "execution_count": 39,
   "id": "a5008fc2",
   "metadata": {},
   "outputs": [],
   "source": [
    "count=[Mcount,Scount]\n",
    "label=['Movies','Shows']"
   ]
  },
  {
   "cell_type": "code",
   "execution_count": 40,
   "id": "516a0ab6",
   "metadata": {},
   "outputs": [
    {
     "data": {
      "text/plain": [
       "([<matplotlib.patches.Wedge at 0x278b3183450>,\n",
       "  <matplotlib.patches.Wedge at 0x278b31e8b90>],\n",
       " [Text(-0.4464212269265337, 1.0053397874099128, 'Movies'),\n",
       "  Text(0.44642122692653313, -1.005339787409913, 'Shows')],\n",
       " [Text(-0.2435024874144729, 0.5483671567690432, '63.30%'),\n",
       "  Text(0.24350248741447258, -0.5483671567690434, '36.70%')])"
      ]
     },
     "execution_count": 40,
     "metadata": {},
     "output_type": "execute_result"
    },
    {
     "data": {
      "image/png": "[encoded data removed]",
      "text/plain": [
       "<Figure size 640x480 with 1 Axes>"
      ]
     },
     "metadata": {},
     "output_type": "display_data"
    }
   ],
   "source": [
    "plt.pie(count,labels=label,autopct='%1.2f%%')"
   ]
  },
  {
   "cell_type": "code",
   "execution_count": 41,
   "id": "2d5ed29b",
   "metadata": {},
   "outputs": [],
   "source": [
    "final_index=final.listed_in.value_counts().index\n",
    "final_value=final.listed_in.value_counts().values"
   ]
  },
  {
   "cell_type": "code",
   "execution_count": 42,
   "id": "ccb5fed4",
   "metadata": {},
   "outputs": [],
   "source": [
    "Genre=pd.DataFrame(final_value,final_index).reset_index().rename(columns={0:'count'})"
   ]
  },
  {
   "cell_type": "code",
   "execution_count": 43,
   "id": "c518ecb2",
   "metadata": {},
   "outputs": [
    {
     "data": {
      "text/html": [
       "<div>\n",
       "<style scoped>\n",
       "    .dataframe tbody tr th:only-of-type {\n",
       "        vertical-align: middle;\n",
       "    }\n",
       "\n",
       "    .dataframe tbody tr th {\n",
       "        vertical-align: top;\n",
       "    }\n",
       "\n",
       "    .dataframe thead th {\n",
       "        text-align: right;\n",
       "    }\n",
       "</style>\n",
       "<table border=\"1\" class=\"dataframe\">\n",
       "  <thead>\n",
       "    <tr style=\"text-align: right;\">\n",
       "      <th></th>\n",
       "      <th>listed_in</th>\n",
       "      <th>count</th>\n",
       "    </tr>\n",
       "  </thead>\n",
       "  <tbody>\n",
       "    <tr>\n",
       "      <th>0</th>\n",
       "      <td>Drama</td>\n",
       "      <td>986</td>\n",
       "    </tr>\n",
       "    <tr>\n",
       "      <th>1</th>\n",
       "      <td>Comedy</td>\n",
       "      <td>536</td>\n",
       "    </tr>\n",
       "    <tr>\n",
       "      <th>2</th>\n",
       "      <td>Drama, Suspense</td>\n",
       "      <td>399</td>\n",
       "    </tr>\n",
       "    <tr>\n",
       "      <th>3</th>\n",
       "      <td>Comedy, Drama</td>\n",
       "      <td>377</td>\n",
       "    </tr>\n",
       "    <tr>\n",
       "      <th>4</th>\n",
       "      <td>Dramas, International Movies</td>\n",
       "      <td>362</td>\n",
       "    </tr>\n",
       "    <tr>\n",
       "      <th>...</th>\n",
       "      <td>...</td>\n",
       "      <td>...</td>\n",
       "    </tr>\n",
       "    <tr>\n",
       "      <th>1026</th>\n",
       "      <td>Animation, Kids, Suspense</td>\n",
       "      <td>1</td>\n",
       "    </tr>\n",
       "    <tr>\n",
       "      <th>1027</th>\n",
       "      <td>Arthouse, Horror</td>\n",
       "      <td>1</td>\n",
       "    </tr>\n",
       "    <tr>\n",
       "      <th>1028</th>\n",
       "      <td>Arthouse, Drama, Horror</td>\n",
       "      <td>1</td>\n",
       "    </tr>\n",
       "    <tr>\n",
       "      <th>1029</th>\n",
       "      <td>Arts, Entertainment, and Culture, Young Adult ...</td>\n",
       "      <td>1</td>\n",
       "    </tr>\n",
       "    <tr>\n",
       "      <th>1030</th>\n",
       "      <td>Cult Movies, Dramas, Thrillers</td>\n",
       "      <td>1</td>\n",
       "    </tr>\n",
       "  </tbody>\n",
       "</table>\n",
       "<p>1031 rows × 2 columns</p>\n",
       "</div>"
      ],
      "text/plain": [
       "                                              listed_in  count\n",
       "0                                                 Drama    986\n",
       "1                                                Comedy    536\n",
       "2                                       Drama, Suspense    399\n",
       "3                                         Comedy, Drama    377\n",
       "4                          Dramas, International Movies    362\n",
       "...                                                 ...    ...\n",
       "1026                          Animation, Kids, Suspense      1\n",
       "1027                                   Arthouse, Horror      1\n",
       "1028                            Arthouse, Drama, Horror      1\n",
       "1029  Arts, Entertainment, and Culture, Young Adult ...      1\n",
       "1030                     Cult Movies, Dramas, Thrillers      1\n",
       "\n",
       "[1031 rows x 2 columns]"
      ]
     },
     "execution_count": 43,
     "metadata": {},
     "output_type": "execute_result"
    }
   ],
   "source": [
    "Genre"
   ]
  },
  {
   "cell_type": "code",
   "execution_count": 48,
   "id": "cd569ae8",
   "metadata": {},
   "outputs": [
    {
     "data": {
      "text/plain": [
       "<BarContainer object of 5 artists>"
      ]
     },
     "execution_count": 48,
     "metadata": {},
     "output_type": "execute_result"
    },
    {
     "data": {
      "image/png": "[encoded data removed]",
      "text/plain": [
       "<Figure size 1000x500 with 1 Axes>"
      ]
     },
     "metadata": {},
     "output_type": "display_data"
    }
   ],
   "source": [
    "fig = plt.figure(figsize = (10, 5))\n",
    "plt.barh(final_index[0:5],final_value[0:5],color='blue')"
   ]
  },
  {
   "cell_type": "code",
   "execution_count": 51,
   "id": "4502f2c1",
   "metadata": {},
   "outputs": [],
   "source": [
    "final_country_value=final.country.value_counts().values\n",
    "final_country_index=final.country.value_counts().index"
   ]
  },
  {
   "cell_type": "code",
   "execution_count": 52,
   "id": "be93562e",
   "metadata": {},
   "outputs": [],
   "source": [
    "Country=pd.DataFrame(final_country_value,final_country_index)"
   ]
  },
  {
   "cell_type": "code",
   "execution_count": 53,
   "id": "0aba8946",
   "metadata": {},
   "outputs": [
    {
     "data": {
      "text/html": [
       "<div>\n",
       "<style scoped>\n",
       "    .dataframe tbody tr th:only-of-type {\n",
       "        vertical-align: middle;\n",
       "    }\n",
       "\n",
       "    .dataframe tbody tr th {\n",
       "        vertical-align: top;\n",
       "    }\n",
       "\n",
       "    .dataframe thead th {\n",
       "        text-align: right;\n",
       "    }\n",
       "</style>\n",
       "<table border=\"1\" class=\"dataframe\">\n",
       "  <thead>\n",
       "    <tr style=\"text-align: right;\">\n",
       "      <th></th>\n",
       "      <th>country</th>\n",
       "      <th>counts</th>\n",
       "    </tr>\n",
       "  </thead>\n",
       "  <tbody>\n",
       "    <tr>\n",
       "      <th>0</th>\n",
       "      <td>United States</td>\n",
       "      <td>3071</td>\n",
       "    </tr>\n",
       "    <tr>\n",
       "      <th>1</th>\n",
       "      <td>India</td>\n",
       "      <td>1201</td>\n",
       "    </tr>\n",
       "    <tr>\n",
       "      <th>2</th>\n",
       "      <td>United Kingdom</td>\n",
       "      <td>447</td>\n",
       "    </tr>\n",
       "    <tr>\n",
       "      <th>3</th>\n",
       "      <td>Japan</td>\n",
       "      <td>247</td>\n",
       "    </tr>\n",
       "    <tr>\n",
       "      <th>4</th>\n",
       "      <td>South Korea</td>\n",
       "      <td>199</td>\n",
       "    </tr>\n",
       "    <tr>\n",
       "      <th>...</th>\n",
       "      <td>...</td>\n",
       "      <td>...</td>\n",
       "    </tr>\n",
       "    <tr>\n",
       "      <th>778</th>\n",
       "      <td>Japan, France</td>\n",
       "      <td>1</td>\n",
       "    </tr>\n",
       "    <tr>\n",
       "      <th>779</th>\n",
       "      <td>Finland, Germany, Belgium</td>\n",
       "      <td>1</td>\n",
       "    </tr>\n",
       "    <tr>\n",
       "      <th>780</th>\n",
       "      <td>Denmark, France</td>\n",
       "      <td>1</td>\n",
       "    </tr>\n",
       "    <tr>\n",
       "      <th>781</th>\n",
       "      <td>United States, Germany, Italy</td>\n",
       "      <td>1</td>\n",
       "    </tr>\n",
       "    <tr>\n",
       "      <th>782</th>\n",
       "      <td>United Arab Emirates, Jordan</td>\n",
       "      <td>1</td>\n",
       "    </tr>\n",
       "  </tbody>\n",
       "</table>\n",
       "<p>783 rows × 2 columns</p>\n",
       "</div>"
      ],
      "text/plain": [
       "                           country  counts\n",
       "0                    United States    3071\n",
       "1                            India    1201\n",
       "2                   United Kingdom     447\n",
       "3                            Japan     247\n",
       "4                      South Korea     199\n",
       "..                             ...     ...\n",
       "778                  Japan, France       1\n",
       "779      Finland, Germany, Belgium       1\n",
       "780                Denmark, France       1\n",
       "781  United States, Germany, Italy       1\n",
       "782   United Arab Emirates, Jordan       1\n",
       "\n",
       "[783 rows x 2 columns]"
      ]
     },
     "execution_count": 53,
     "metadata": {},
     "output_type": "execute_result"
    }
   ],
   "source": [
    "Country.reset_index().rename(columns={0:'counts'})"
   ]
  },
  {
   "cell_type": "code",
   "execution_count": 54,
   "id": "0defd24d",
   "metadata": {},
   "outputs": [
    {
     "data": {
      "text/plain": [
       "([<matplotlib.patches.Wedge at 0x278b7c49590>,\n",
       "  <matplotlib.patches.Wedge at 0x278b7c61b50>,\n",
       "  <matplotlib.patches.Wedge at 0x278b7c70950>,\n",
       "  <matplotlib.patches.Wedge at 0x278b7c72350>,\n",
       "  <matplotlib.patches.Wedge at 0x278b7c73e90>],\n",
       " [Text(-0.32205326077309615, 1.0517992666024332, 'United States'),\n",
       "  Text(-0.2679168795985925, -1.066874193907676, 'India'),\n",
       "  Text(0.7549019409730564, -0.8000769085001218, 'United Kingdom'),\n",
       "  Text(1.016427485539681, -0.42056529414525146, 'Japan'),\n",
       "  Text(1.0919518362595024, -0.1328201313412277, 'South Korea')],\n",
       " [Text(-0.17566541496714336, 0.5737086908740544, '59.46%'),\n",
       "  Text(-0.14613647978105043, -0.581931378495096, '23.25%'),\n",
       "  Text(0.41176469507621255, -0.43640558645461186, '8.65%'),\n",
       "  Text(0.5544149921125532, -0.22939925135195532, '4.78%'),\n",
       "  Text(0.5956100925051832, -0.07244734436794237, '3.85%')])"
      ]
     },
     "execution_count": 54,
     "metadata": {},
     "output_type": "execute_result"
    },
    {
     "data": {
      "image/png": "[encoded data removed]",
      "text/plain": [
       "<Figure size 640x480 with 1 Axes>"
      ]
     },
     "metadata": {},
     "output_type": "display_data"
    }
   ],
   "source": [
    "plt.pie(final_country_value[0:5],labels=final_country_index[0:5],autopct='%1.2f%%')"
   ]
  },
  {
   "cell_type": "code",
   "execution_count": null,
   "id": "36a8e567",
   "metadata": {},
   "outputs": [],
   "source": []
  }
 ],
 "metadata": {
  "kernelspec": {
   "display_name": "Python 3 (ipykernel)",
   "language": "python",
   "name": "python3"
  },
  "language_info": {
   "codemirror_mode": {
    "name": "ipython",
    "version": 3
   },
   "file_extension": ".py",
   "mimetype": "text/x-python",
   "name": "python",
   "nbconvert_exporter": "python",
   "pygments_lexer": "ipython3",
   "version": "3.11.5"
  }
 },
 "nbformat": 4,
 "nbformat_minor": 5
}
